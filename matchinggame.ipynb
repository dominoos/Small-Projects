{
  "nbformat": 4,
  "nbformat_minor": 0,
  "metadata": {
    "colab": {
      "provenance": [],
      "authorship_tag": "ABX9TyPw60T+kM475slGahccyvM1",
      "include_colab_link": true
    },
    "kernelspec": {
      "name": "python3",
      "display_name": "Python 3"
    },
    "language_info": {
      "name": "python"
    }
  },
  "cells": [
    {
      "cell_type": "markdown",
      "metadata": {
        "id": "view-in-github",
        "colab_type": "text"
      },
      "source": [
        "<a href=\"https://colab.research.google.com/github/dominoos/Small-Projects/blob/main/matchinggame.ipynb\" target=\"_parent\"><img src=\"https://colab.research.google.com/assets/colab-badge.svg\" alt=\"Open In Colab\"/></a>"
      ]
    },
    {
      "cell_type": "code",
      "source": [
        "#To prettify the words\n",
        "\n",
        "bigwords={}\n",
        "with open(\"dictionary.txt\", 'r') as f:\n",
        "    words = f.readlines()\n",
        "for i in range(len(words)):\n",
        "  bigwords[words[i].replace(\" \",\"\").strip(\"\\n\").lower().split(\";\")[0]]= words[i].strip(\"\\n\")\n",
        "print(bigwords)\n",
        "\n",
        "\n",
        "\n",
        "\n",
        "def alphatonum(lis):\n",
        "  nums=[]\n",
        "  for i in lis:\n",
        "    string=i\n",
        "    for a in string:\n",
        "      nums.append(ord(a))\n",
        "  return nums\n",
        "\n",
        "def lessthan(lis, lis2):\n",
        "  if len(lis)< len(lis2):\n",
        "    return True\n",
        "  else:\n",
        "    x=lis2\n",
        "    for i in range(len(x)):\n",
        "      if lis[i]<lis2[i]:\n",
        "        return True\n",
        "      else:\n",
        "        return False\n",
        "\n",
        "\n",
        "\n",
        "\n",
        "elements=[]\n",
        "\n",
        "with open(\"matches.txt\", 'r') as f:\n",
        "    stats = f.readlines()\n",
        "for i in range(len(stats)):\n",
        "  stats[i] = stats[i].replace(\" \",\"\").strip(\"\\n\").lower().split(\";\")\n",
        "  for a in stats[i]:\n",
        "    if a not in \"1234567890\" and a not in elements:\n",
        "      elements.append(a)\n",
        "  num= int(stats[i][0])\n",
        "  current= stats[i][1: (num+1)]\n",
        "  current.sort()\n",
        "  current.append(stats[i][-1])\n",
        "  stats[i]=current\n",
        "#print(stats)\n",
        "ordered= stats\n",
        "\n",
        "for i in range(1, len(ordered)):\n",
        "  key = ordered[i]\n",
        "  j= i-1\n",
        "\n",
        "  keylessthanother= lessthan(key, ordered[j])\n",
        "\n",
        "  while j>=0 and keylessthanother:\n",
        "\n",
        "    ordered[j+1]= ordered[j]\n",
        "    j-=1\n",
        "    keylessthanother= lessthan(key, ordered[j])\n",
        "  ordered[j+1]= key\n",
        "\n",
        "#print(ordered)\n",
        "\n",
        "elements.sort()\n",
        "\n",
        "#print(elements)\n",
        "\n",
        "\n",
        "numordered= []\n",
        "for i in ordered:\n",
        "  numordered.append(alphatonum(i))\n",
        "\n",
        "#numordered\n",
        "\n",
        "\n",
        "def find(items, numordered, ordered):\n",
        "  totallen=0\n",
        "  num= alphatonum(items)\n",
        "  for i in items:\n",
        "    totallen+=len(i)\n",
        "  for i in range(len(numordered)):\n",
        "    #print(num, \" \", numordered[i][0:totallen])\n",
        "\n",
        "    if num == numordered[i][0:totallen]:\n",
        "      print(i)\n",
        "      result= ordered[i][-1]\n",
        "      if result in bigwords.keys():\n",
        "        result= bigwords[result]\n",
        "      else:\n",
        "          result.capitalize()\n",
        "\n",
        "\n",
        "      return (result)\n",
        "\n",
        "\n",
        "\n"
      ],
      "metadata": {
        "id": "_VEk0l3o1V5g",
        "colab": {
          "base_uri": "https://localhost:8080/"
        },
        "outputId": "c96e0269-3b23-4ef9-8ae6-c36d06672a94"
      },
      "execution_count": 29,
      "outputs": [
        {
          "output_type": "stream",
          "name": "stdout",
          "text": [
            "{'particleplasma': 'Particle Plasma', 'redgiant': 'Red Giant', 'starcluster': 'Star cluster', 'buildingelements': 'Building elements', 'gasgiant': 'Gas giant', 'supercluster': 'Super cluster', 'heatdeath': 'Heat death', 'starnursery': 'Star nursery', 'smallstarnursery': 'Small star nursery', 'supernursery': 'Super Nursery', 'reddwarfstar': 'Red dwarf star', 'yellowdwarfstar': 'Yellow dwarf star', 'bluestar': 'Blue star', 'redsolarsystem': 'Red solar system', 'yellowsolarsystem': 'Yellow solar system', 'bluesolarsystem': 'Blue solar system', 'neutronstar': 'Neutron star', 'heavyelements': 'Heavy elements', 'deaduniverse': 'Dead universe'}\n"
          ]
        }
      ]
    },
    {
      "cell_type": "code",
      "source": [
        "print(\"please open the pairs.txt and look at some combos to try, then input them as item 1 and item 2.\")\n",
        "\n",
        "\n",
        "x=input(\"item 1 \")\n",
        "y= input(\"item 2 \")\n",
        "items=[x.replace(\" \",\"\").lower(), y.replace(\" \",\"\").lower()]\n",
        "print(items)\n",
        "print(find(items, numordered,ordered))"
      ],
      "metadata": {
        "colab": {
          "base_uri": "https://localhost:8080/"
        },
        "id": "HilPYjjPgvo-",
        "outputId": "461ab4d7-c6cc-4f40-cd01-01aa3fb505fc"
      },
      "execution_count": 30,
      "outputs": [
        {
          "output_type": "stream",
          "name": "stdout",
          "text": [
            "please open the pairs.txt and look at some combos to try, then input them as item 1 and item 2.\n",
            "item 1 h\n",
            "item 2 h\n",
            "['h', 'h']\n",
            "10\n",
            "he\n"
          ]
        }
      ]
    },
    {
      "cell_type": "markdown",
      "source": [],
      "metadata": {
        "id": "ZzS7qOb_f0hE"
      }
    }
  ]
}